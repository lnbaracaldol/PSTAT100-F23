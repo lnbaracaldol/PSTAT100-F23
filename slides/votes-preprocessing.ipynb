{
 "cells": [
  {
   "cell_type": "code",
   "execution_count": 2,
   "metadata": {},
   "outputs": [],
   "source": [
    "import numpy as np\n",
    "import pandas as pd"
   ]
  },
  {
   "attachments": {},
   "cell_type": "markdown",
   "metadata": {},
   "source": [
    "Import raw data tables"
   ]
  },
  {
   "cell_type": "code",
   "execution_count": 3,
   "metadata": {},
   "outputs": [],
   "source": [
    "members = pd.read_csv('data/members.csv')\n",
    "votes = pd.read_csv('data/rollcall-votes.csv')\n",
    "info = pd.read_csv('data/rollcall-info.csv')\n",
    "bills = pd.read_csv('data/bills.csv')"
   ]
  },
  {
   "attachments": {},
   "cell_type": "markdown",
   "metadata": {},
   "source": [
    "Vote types of interest"
   ]
  },
  {
   "cell_type": "code",
   "execution_count": 81,
   "metadata": {},
   "outputs": [],
   "source": [
    "motions_to_agree_or_pass =['On Agreeing to the Resolution', \n",
    "'On Passage', \n",
    "'On Motion to Suspend the Rules and Pass', \n",
    "'On Motion to Suspend the Rules and Agree',\n",
    "'On Motion to Suspend the Rules and Agree, as Amended',\n",
    "'On Motion to Suspend the Rules and Pass, as Amended',\n",
    "'On Passage, Objections of the President to the Contrary Notwithstanding']\n",
    "\n",
    "rollcalls_of_interest = [index for index, row in info.iterrows() if  (row['question'] in motions_to_agree_or_pass) ]\n",
    "info_sub = info.iloc[rollcalls_of_interest, :]"
   ]
  },
  {
   "attachments": {},
   "cell_type": "markdown",
   "metadata": {},
   "source": [
    "- bill info `bills` and roll call info `info` are matched on `bill_id`\n",
    "- `info` is matched with `vote` on `rollcall_id`"
   ]
  },
  {
   "cell_type": "code",
   "execution_count": 9,
   "metadata": {},
   "outputs": [
    {
     "data": {
      "text/html": [
       "<div>\n",
       "<style scoped>\n",
       "    .dataframe tbody tr th:only-of-type {\n",
       "        vertical-align: middle;\n",
       "    }\n",
       "\n",
       "    .dataframe tbody tr th {\n",
       "        vertical-align: top;\n",
       "    }\n",
       "\n",
       "    .dataframe thead th {\n",
       "        text-align: right;\n",
       "    }\n",
       "</style>\n",
       "<table border=\"1\" class=\"dataframe\">\n",
       "  <thead>\n",
       "    <tr style=\"text-align: right;\">\n",
       "      <th></th>\n",
       "      <th>bill_id</th>\n",
       "      <th>title</th>\n",
       "      <th>sponsor</th>\n",
       "      <th>cosponsors</th>\n",
       "      <th>related_bills</th>\n",
       "      <th>policy_area</th>\n",
       "      <th>subjects</th>\n",
       "      <th>committees</th>\n",
       "      <th>bill_progress</th>\n",
       "      <th>summary</th>\n",
       "      <th>date_introduced</th>\n",
       "      <th>number</th>\n",
       "      <th>bill_type</th>\n",
       "    </tr>\n",
       "  </thead>\n",
       "  <tbody>\n",
       "    <tr>\n",
       "      <th>0</th>\n",
       "      <td>H.R.1</td>\n",
       "      <td>To expand Americans' access to the ballot box,...</td>\n",
       "      <td>S001168</td>\n",
       "      <td>['P000197', 'A000370', 'A000376', 'B001300', '...</td>\n",
       "      <td>['H.R.44', 'H.R.93', 'H.R.137', 'H.R.138', 'H....</td>\n",
       "      <td>Government Operations and Politics</td>\n",
       "      <td>['Administrative law and regulatory procedures...</td>\n",
       "      <td>['House Administration', 'House Intelligence (...</td>\n",
       "      <td>Passed House</td>\n",
       "      <td>This bill addresses voter access, election int...</td>\n",
       "      <td>2019-01-03</td>\n",
       "      <td>1</td>\n",
       "      <td>H.R.</td>\n",
       "    </tr>\n",
       "    <tr>\n",
       "      <th>1</th>\n",
       "      <td>H.R.3</td>\n",
       "      <td>To establish a fair price negotiation program,...</td>\n",
       "      <td>P000034</td>\n",
       "      <td>['N000015', 'S000185', 'L000557', 'K000382', '...</td>\n",
       "      <td>['H.R.4619', 'H.R.4649', 'H8607', 'H.R.4663']</td>\n",
       "      <td>Health</td>\n",
       "      <td>[]</td>\n",
       "      <td>['House Energy and Commerce', 'House Ways and ...</td>\n",
       "      <td>Introduced</td>\n",
       "      <td>This bill establishes several programs and req...</td>\n",
       "      <td>2019-09-19</td>\n",
       "      <td>3</td>\n",
       "      <td>H.R.</td>\n",
       "    </tr>\n",
       "  </tbody>\n",
       "</table>\n",
       "</div>"
      ],
      "text/plain": [
       "  bill_id                                              title  sponsor  \\\n",
       "0   H.R.1  To expand Americans' access to the ballot box,...  S001168   \n",
       "1   H.R.3  To establish a fair price negotiation program,...  P000034   \n",
       "\n",
       "                                          cosponsors  \\\n",
       "0  ['P000197', 'A000370', 'A000376', 'B001300', '...   \n",
       "1  ['N000015', 'S000185', 'L000557', 'K000382', '...   \n",
       "\n",
       "                                       related_bills  \\\n",
       "0  ['H.R.44', 'H.R.93', 'H.R.137', 'H.R.138', 'H....   \n",
       "1      ['H.R.4619', 'H.R.4649', 'H8607', 'H.R.4663']   \n",
       "\n",
       "                          policy_area  \\\n",
       "0  Government Operations and Politics   \n",
       "1                              Health   \n",
       "\n",
       "                                            subjects  \\\n",
       "0  ['Administrative law and regulatory procedures...   \n",
       "1                                                 []   \n",
       "\n",
       "                                          committees bill_progress  \\\n",
       "0  ['House Administration', 'House Intelligence (...  Passed House   \n",
       "1  ['House Energy and Commerce', 'House Ways and ...    Introduced   \n",
       "\n",
       "                                             summary date_introduced  number  \\\n",
       "0  This bill addresses voter access, election int...      2019-01-03       1   \n",
       "1  This bill establishes several programs and req...      2019-09-19       3   \n",
       "\n",
       "  bill_type  \n",
       "0      H.R.  \n",
       "1      H.R.  "
      ]
     },
     "execution_count": 9,
     "metadata": {},
     "output_type": "execute_result"
    }
   ],
   "source": [
    "bills.head(2)"
   ]
  },
  {
   "cell_type": "code",
   "execution_count": 82,
   "metadata": {},
   "outputs": [
    {
     "data": {
      "text/html": [
       "<div>\n",
       "<style scoped>\n",
       "    .dataframe tbody tr th:only-of-type {\n",
       "        vertical-align: middle;\n",
       "    }\n",
       "\n",
       "    .dataframe tbody tr th {\n",
       "        vertical-align: top;\n",
       "    }\n",
       "\n",
       "    .dataframe thead th {\n",
       "        text-align: right;\n",
       "    }\n",
       "</style>\n",
       "<table border=\"1\" class=\"dataframe\">\n",
       "  <thead>\n",
       "    <tr style=\"text-align: right;\">\n",
       "      <th></th>\n",
       "      <th>rollcall_id</th>\n",
       "      <th>roll_num</th>\n",
       "      <th>date</th>\n",
       "      <th>bill_id</th>\n",
       "      <th>question</th>\n",
       "      <th>result</th>\n",
       "      <th>description</th>\n",
       "      <th>year</th>\n",
       "      <th>congress</th>\n",
       "      <th>session</th>\n",
       "    </tr>\n",
       "  </thead>\n",
       "  <tbody>\n",
       "    <tr>\n",
       "      <th>3</th>\n",
       "      <td>2019:006</td>\n",
       "      <td>6</td>\n",
       "      <td>3-Jan</td>\n",
       "      <td>H.RES.5</td>\n",
       "      <td>On Agreeing to the Resolution</td>\n",
       "      <td>P</td>\n",
       "      <td>Providing for consideration of H.Res. 6, adopt...</td>\n",
       "      <td>2019</td>\n",
       "      <td>116</td>\n",
       "      <td>1</td>\n",
       "    </tr>\n",
       "    <tr>\n",
       "      <th>6</th>\n",
       "      <td>2019:009</td>\n",
       "      <td>9</td>\n",
       "      <td>3-Jan</td>\n",
       "      <td>H.J.RES.1</td>\n",
       "      <td>On Passage</td>\n",
       "      <td>P</td>\n",
       "      <td>Making further continuing appropriations for t...</td>\n",
       "      <td>2019</td>\n",
       "      <td>116</td>\n",
       "      <td>1</td>\n",
       "    </tr>\n",
       "  </tbody>\n",
       "</table>\n",
       "</div>"
      ],
      "text/plain": [
       "  rollcall_id  roll_num   date    bill_id                       question  \\\n",
       "3    2019:006         6  3-Jan    H.RES.5  On Agreeing to the Resolution   \n",
       "6    2019:009         9  3-Jan  H.J.RES.1                     On Passage   \n",
       "\n",
       "  result                                        description  year  congress  \\\n",
       "3      P  Providing for consideration of H.Res. 6, adopt...  2019       116   \n",
       "6      P  Making further continuing appropriations for t...  2019       116   \n",
       "\n",
       "   session  \n",
       "3        1  \n",
       "6        1  "
      ]
     },
     "execution_count": 82,
     "metadata": {},
     "output_type": "execute_result"
    }
   ],
   "source": [
    "info_sub.head(2)"
   ]
  },
  {
   "attachments": {},
   "cell_type": "markdown",
   "metadata": {},
   "source": [
    "add roll call id to bill id"
   ]
  },
  {
   "cell_type": "code",
   "execution_count": 88,
   "metadata": {},
   "outputs": [],
   "source": [
    "bills_aug = pd.merge(\n",
    "    bills, \n",
    "    info_sub.loc[:, ['rollcall_id', 'bill_id']], \n",
    "    on = 'bill_id', \n",
    "    how = 'inner')"
   ]
  },
  {
   "attachments": {},
   "cell_type": "markdown",
   "metadata": {},
   "source": [
    "number of votes of potential interest"
   ]
  },
  {
   "cell_type": "code",
   "execution_count": 91,
   "metadata": {},
   "outputs": [
    {
     "data": {
      "text/plain": [
       "(144, 14)"
      ]
     },
     "execution_count": 91,
     "metadata": {},
     "output_type": "execute_result"
    }
   ],
   "source": [
    "bills_aug.shape"
   ]
  },
  {
   "attachments": {},
   "cell_type": "markdown",
   "metadata": {},
   "source": [
    "examine bill types"
   ]
  },
  {
   "cell_type": "code",
   "execution_count": 98,
   "metadata": {},
   "outputs": [
    {
     "data": {
      "text/plain": [
       "Finance and Financial Sector                   15\n",
       "Government Operations and Politics             12\n",
       "International Affairs                          12\n",
       "Economics and Public Finance                   11\n",
       "Armed Forces and National Security             11\n",
       "Emergency Management                           10\n",
       "Crime and Law Enforcement                       9\n",
       "Commerce                                        8\n",
       "Health                                          7\n",
       "Immigration                                     7\n",
       "Public Lands and Natural Resources              5\n",
       "Labor and Employment                            5\n",
       "Native Americans                                5\n",
       "Transportation and Public Works                 4\n",
       "Science, Technology, Communications             4\n",
       "Environmental Protection                        4\n",
       "Housing and Community Development               3\n",
       "Animals                                         2\n",
       "Taxation                                        2\n",
       "Law                                             2\n",
       "Energy                                          2\n",
       "Civil Rights and Liberties, Minority Issues     1\n",
       "Education                                       1\n",
       "Social Welfare                                  1\n",
       "Foreign Trade and International Finance         1\n",
       "Name: policy_area, dtype: int64"
      ]
     },
     "execution_count": 98,
     "metadata": {},
     "output_type": "execute_result"
    }
   ],
   "source": [
    "bills_aug.policy_area.value_counts()"
   ]
  },
  {
   "cell_type": "code",
   "execution_count": 104,
   "metadata": {},
   "outputs": [],
   "source": [
    "votes_clean = votes.set_index('name_id')[bills_aug.rollcall_id.values]"
   ]
  },
  {
   "cell_type": "code",
   "execution_count": 106,
   "metadata": {},
   "outputs": [],
   "source": [
    "votes_clean.to_csv('data/votes-clean.csv', index = True)\n",
    "bills_aug.to_csv('data/votes-info.csv', index = True)"
   ]
  }
 ],
 "metadata": {
  "kernelspec": {
   "display_name": "base",
   "language": "python",
   "name": "python3"
  },
  "language_info": {
   "codemirror_mode": {
    "name": "ipython",
    "version": 3
   },
   "file_extension": ".py",
   "mimetype": "text/x-python",
   "name": "python",
   "nbconvert_exporter": "python",
   "pygments_lexer": "ipython3",
   "version": "3.9.12"
  },
  "orig_nbformat": 4
 },
 "nbformat": 4,
 "nbformat_minor": 2
}
